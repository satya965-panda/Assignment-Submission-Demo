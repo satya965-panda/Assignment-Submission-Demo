{
  "nbformat": 4,
  "nbformat_minor": 0,
  "metadata": {
    "colab": {
      "name": "Assignment_Day-1.ipynb",
      "provenance": [],
      "authorship_tag": "ABX9TyPMbs33mCv1YCkGAE/bCAbc",
      "include_colab_link": true
    },
    "kernelspec": {
      "name": "python3",
      "display_name": "Python 3"
    },
    "language_info": {
      "name": "python"
    }
  },
  "cells": [
    {
      "cell_type": "markdown",
      "metadata": {
        "id": "view-in-github",
        "colab_type": "text"
      },
      "source": [
        "<a href=\"https://colab.research.google.com/github/satya965-panda/Assignment-Submission-Demo/blob/main/Assignment_Day_1.ipynb\" target=\"_parent\"><img src=\"https://colab.research.google.com/assets/colab-badge.svg\" alt=\"Open In Colab\"/></a>"
      ]
    },
    {
      "cell_type": "code",
      "execution_count": 11,
      "metadata": {
        "colab": {
          "base_uri": "https://localhost:8080/"
        },
        "id": "IqOYnV8c1P5e",
        "outputId": "1cd0ee6e-00ee-41c5-9822-56bba3b46ea5"
      },
      "outputs": [
        {
          "output_type": "stream",
          "name": "stdout",
          "text": [
            "Enter the number :180\n",
            "Want to sum another number ? (y/n) :y\n",
            "Enter the number :34\n",
            "Want to sum another number ? (y/n) :y\n",
            "Enter the number :6\n",
            "Want to sum another number ? (y/n) :n\n",
            "sum : 220\n"
          ]
        }
      ],
      "source": [
        "sum = 0\n",
        "\n",
        "while True:\n",
        "  number = int(input(\"Enter the number :\"))\n",
        "  sum += number\n",
        "  22\n",
        "\n",
        "  choice = input(\"Want to sum another number ? (y/n) :\")\n",
        "  if choice.casefold() == 'n':\n",
        "      break;\n",
        "\n",
        "print(f\"sum : {sum}\")"
      ]
    }
  ]
}